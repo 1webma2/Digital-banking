{
 "cells": [
  {
   "cell_type": "code",
   "execution_count": 1,
   "metadata": {},
   "outputs": [],
   "source": [
    "import pandas as pd\n",
    "import numpy as np"
   ]
  },
  {
   "cell_type": "code",
   "execution_count": 2,
   "metadata": {},
   "outputs": [],
   "source": [
    "# Creating features for users of the digital bank\n",
    "class user:\n",
    "   \n",
    "    # Initialization of user. Creating user: First name, Last name, current balance, investment balance, number of stocks\n",
    "    def __init__(self, first, last, current_balance, investment_balance, stocks, transaction_fee):\n",
    "        self.first = first\n",
    "        self.last = last\n",
    "        self.current_balance = current_balance\n",
    "        self.investment_balance = investment_balance\n",
    "        self.stocks = stocks\n",
    "        self.transaction_fee = transaction_fee\n",
    "        \n",
    "    # Checking current balance\n",
    "    def current_balance(self):\n",
    "        return '{} {} current balance is {}\"'.format(self.first, self.last, self.current_balance)\n",
    "    \n",
    "    # Setting user's interest rate\n",
    "    def interest_rate(self, interest_rate):\n",
    "        self.interest_rate = interest_rate\n",
    "    \n",
    "    # Setting user's interest rate\n",
    "    def transaction_fee(self, transaction_fee):\n",
    "        self.transaction_fee = transaction_fee\n",
    "    \n",
    "    # Checking future balance    \n",
    "    def future_balance(self):\n",
    "        self.future_balance = self.current_balance * (1 + self.interest_rate / 100)\n",
    "        return '{} {} future balance is {}\"'.format(self.first, self.last, self.future_balance)  \n",
    "    \n",
    "    # cash_in\n",
    "    def cash_in(self, cash_in):\n",
    "        self.cash_in = cash_in\n",
    "        self.current_balance = self.current_balance + self.cash_in + self.transaction_fee * self.cash_in\n",
    "    \n",
    "    #withdraw money    \n",
    "    def cash_out(self, cash_out):\n",
    "        self.cash_out = cash_out\n",
    "        self.current_balance = self.current_balance - self.cash_out - self.cash_out * self.transaction_fee\n",
    "    \n",
    "    # add money to the investment account from current account\n",
    "    def invest_in_stock(self, invest):\n",
    "        self.invest = invest\n",
    "        if self.invest < self.current_balance and self.invest >=1:\n",
    "            self.investment_balance = self.investment_balance + self.invest\n",
    "            self.current_balance = self.current_balance - self.invest\n",
    "        else:\n",
    "            print('Invalid amount of money')\n",
    "            \n",
    "    def retrieve_from_stock(self, retrieve):\n",
    "        self.retrieve = retrieve\n",
    "        if self.retrieve < self.investment_balance:\n",
    "            self.current_balance = self.current_balance + self.retrieve\n",
    "            self.investment_balance = self.investment_balance - self.retrieve\n",
    "        else:\n",
    "            print('Invalid amount of money')\n",
    "            \n",
    "    def stock(self):\n",
    "        return '{} {} holds {} stocks\"'.format(self.first, self.last, self.stocks)"
   ]
  },
  {
   "cell_type": "code",
   "execution_count": 3,
   "metadata": {},
   "outputs": [],
   "source": [
    "user_1 = user('Andrei', 'Ten', 40000, 1000, 10, 0.01)"
   ]
  },
  {
   "cell_type": "code",
   "execution_count": 4,
   "metadata": {},
   "outputs": [],
   "source": [
    "user_1.cash_in(500)"
   ]
  },
  {
   "cell_type": "code",
   "execution_count": 5,
   "metadata": {},
   "outputs": [
    {
     "data": {
      "text/plain": [
       "40505.0"
      ]
     },
     "execution_count": 5,
     "metadata": {},
     "output_type": "execute_result"
    }
   ],
   "source": [
    "user_1.current_balance"
   ]
  },
  {
   "cell_type": "code",
   "execution_count": 6,
   "metadata": {},
   "outputs": [],
   "source": [
    "user_1.cash_out(4000)"
   ]
  },
  {
   "cell_type": "code",
   "execution_count": 7,
   "metadata": {},
   "outputs": [],
   "source": [
    "user_1.interest_rate(5)"
   ]
  },
  {
   "cell_type": "code",
   "execution_count": 8,
   "metadata": {},
   "outputs": [
    {
     "data": {
      "text/plain": [
       "'Andrei Ten future balance is 38288.25\"'"
      ]
     },
     "execution_count": 8,
     "metadata": {},
     "output_type": "execute_result"
    }
   ],
   "source": [
    "user_1.future_balance()"
   ]
  },
  {
   "cell_type": "code",
   "execution_count": 9,
   "metadata": {},
   "outputs": [
    {
     "data": {
      "text/plain": [
       "'Andrei Ten current balance is 36465.0\"'"
      ]
     },
     "execution_count": 9,
     "metadata": {},
     "output_type": "execute_result"
    }
   ],
   "source": [
    "user.current_balance(user_1)"
   ]
  },
  {
   "cell_type": "code",
   "execution_count": 10,
   "metadata": {},
   "outputs": [],
   "source": [
    "user_1.invest_in_stock(2000)"
   ]
  },
  {
   "cell_type": "code",
   "execution_count": 11,
   "metadata": {},
   "outputs": [
    {
     "data": {
      "text/plain": [
       "34465.0"
      ]
     },
     "execution_count": 11,
     "metadata": {},
     "output_type": "execute_result"
    }
   ],
   "source": [
    "user_1.current_balance"
   ]
  },
  {
   "cell_type": "code",
   "execution_count": 12,
   "metadata": {},
   "outputs": [
    {
     "data": {
      "text/plain": [
       "3000"
      ]
     },
     "execution_count": 12,
     "metadata": {},
     "output_type": "execute_result"
    }
   ],
   "source": [
    "user_1.investment_balance"
   ]
  },
  {
   "cell_type": "code",
   "execution_count": 13,
   "metadata": {},
   "outputs": [],
   "source": [
    "user_1.retrieve_from_stock(1500)"
   ]
  },
  {
   "cell_type": "code",
   "execution_count": 14,
   "metadata": {},
   "outputs": [
    {
     "data": {
      "text/plain": [
       "35965.0"
      ]
     },
     "execution_count": 14,
     "metadata": {},
     "output_type": "execute_result"
    }
   ],
   "source": [
    "user_1.current_balance"
   ]
  },
  {
   "cell_type": "code",
   "execution_count": 15,
   "metadata": {},
   "outputs": [
    {
     "data": {
      "text/plain": [
       "'Andrei Ten holds 10 stocks\"'"
      ]
     },
     "execution_count": 15,
     "metadata": {},
     "output_type": "execute_result"
    }
   ],
   "source": [
    "user.stock(user_1)"
   ]
  },
  {
   "cell_type": "code",
   "execution_count": 16,
   "metadata": {},
   "outputs": [],
   "source": [
    "class stock_exchange:\n",
    "    stocks_items = {'JnJ' : 150 , \n",
    "                    'BMW' : 50, \n",
    "                    'Sber' : 4, \n",
    "                    'Tinkoff' :20 , \n",
    "                    'TCS' :78, \n",
    "                    'Tesla' : 450,\n",
    "                    'Yandex' : 99, \n",
    "                    'Google' : 1124}\n",
    "    \n",
    "    def show_all():\n",
    "        print(stock_exchange.stocks_items)\n",
    "\n",
    "            "
   ]
  },
  {
   "cell_type": "code",
   "execution_count": 17,
   "metadata": {},
   "outputs": [],
   "source": [
    "class banker:\n",
    "    #def __init__(self, first, last):\n",
    "   #     banker.first = first\n",
    "   #     banker.last = last\n",
    "    \n",
    "    def add_interest(self, interest):\n",
    "        self.interest = interest\n",
    "        self.interest_rate = self.interest\n",
    "    \n",
    "  #  def add_interest(self, user, interest):\n",
    "    #    self.newinterest = interest\n",
    "    #    user.interest_rate(self,self.newinterest )\n",
    "    \n",
    "    def add_stock_or_set_price( new_stock , price):\n",
    "        #self.new_stock = new_stock\n",
    "        #\"self.new_stock = price\n",
    "        stock_exchange.stocks_items[new_stock] = price\n",
    "    \n",
    "    def set_fee(self, new_transaction_fee):\n",
    "        self.new_transaction_fee = new_transaction_fee\n",
    "        self.transaction_fee =  self.new_transaction_fee"
   ]
  },
  {
   "cell_type": "code",
   "execution_count": 18,
   "metadata": {},
   "outputs": [],
   "source": [
    "banker.add_interest(user_1, 15)"
   ]
  },
  {
   "cell_type": "code",
   "execution_count": 19,
   "metadata": {},
   "outputs": [
    {
     "data": {
      "text/plain": [
       "0.01"
      ]
     },
     "execution_count": 19,
     "metadata": {},
     "output_type": "execute_result"
    }
   ],
   "source": [
    "user_1.transaction_fee"
   ]
  },
  {
   "cell_type": "code",
   "execution_count": 20,
   "metadata": {},
   "outputs": [],
   "source": [
    "banker.set_fee(user_1, 0.05)"
   ]
  },
  {
   "cell_type": "code",
   "execution_count": 21,
   "metadata": {},
   "outputs": [
    {
     "data": {
      "text/plain": [
       "0.05"
      ]
     },
     "execution_count": 21,
     "metadata": {},
     "output_type": "execute_result"
    }
   ],
   "source": [
    "user_1.transaction_fee"
   ]
  },
  {
   "cell_type": "code",
   "execution_count": 22,
   "metadata": {},
   "outputs": [
    {
     "data": {
      "text/plain": [
       "15"
      ]
     },
     "execution_count": 22,
     "metadata": {},
     "output_type": "execute_result"
    }
   ],
   "source": [
    "user_1.interest_rate"
   ]
  },
  {
   "cell_type": "code",
   "execution_count": 23,
   "metadata": {},
   "outputs": [],
   "source": [
    "banker.add_stock_or_set_price('Apple', 33)"
   ]
  },
  {
   "cell_type": "code",
   "execution_count": 24,
   "metadata": {},
   "outputs": [
    {
     "name": "stdout",
     "output_type": "stream",
     "text": [
      "{'JnJ': 150, 'BMW': 50, 'Sber': 4, 'Tinkoff': 20, 'TCS': 78, 'Tesla': 450, 'Yandex': 99, 'Google': 1124, 'Apple': 33}\n"
     ]
    }
   ],
   "source": [
    "stock_exchange.show_all()"
   ]
  },
  {
   "cell_type": "code",
   "execution_count": null,
   "metadata": {},
   "outputs": [],
   "source": []
  }
 ],
 "metadata": {
  "kernelspec": {
   "display_name": "Python 3",
   "language": "python",
   "name": "python3"
  },
  "language_info": {
   "codemirror_mode": {
    "name": "ipython",
    "version": 3
   },
   "file_extension": ".py",
   "mimetype": "text/x-python",
   "name": "python",
   "nbconvert_exporter": "python",
   "pygments_lexer": "ipython3",
   "version": "3.7.3"
  }
 },
 "nbformat": 4,
 "nbformat_minor": 4
}
