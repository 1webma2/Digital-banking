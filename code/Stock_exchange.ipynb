{
 "cells": [
  {
   "cell_type": "code",
   "execution_count": null,
   "metadata": {},
   "outputs": [],
   "source": [
    "class stock_exchange:\n",
    "    \n",
    "    '''\n",
    "    \n",
    "    ----------------------\n",
    "    Description:\n",
    "\n",
    "    This is stock exchange module which allows users and bankers to show all available stocks and their prices\n",
    "    \n",
    "    ----------------------\n",
    "    \n",
    "    \n",
    "    ----------------------\n",
    "    Attributes:\n",
    "    \n",
    "    stocks_items - dictionary. It contains stocks and their prices\n",
    "    -----------------------\n",
    "    \n",
    "    -----------------------\n",
    "    Methods:\n",
    "    \n",
    "    show_all - allows to view all available stocks and their prices for purchase\n",
    "    \n",
    "    ------------------------\n",
    "    \n",
    "    '''\n",
    "    stocks_items = {'JnJ' : 150 , \n",
    "                    'BMW' : 50, \n",
    "                    'Sber' : 4, \n",
    "                    'Tinkoff' :20 , \n",
    "                    'TCS' :78, \n",
    "                    'Tesla' : 450,\n",
    "                    'Yandex' : 99, \n",
    "                    'Google' : 1124}\n",
    "    \n",
    "    def show_all():\n",
    "        print(stock_exchange.stocks_items)\n"
   ]
  }
 ],
 "metadata": {
  "kernelspec": {
   "display_name": "Python 3",
   "language": "python",
   "name": "python3"
  },
  "language_info": {
   "codemirror_mode": {
    "name": "ipython",
    "version": 3
   },
   "file_extension": ".py",
   "mimetype": "text/x-python",
   "name": "python",
   "nbconvert_exporter": "python",
   "pygments_lexer": "ipython3",
   "version": "3.7.3"
  }
 },
 "nbformat": 4,
 "nbformat_minor": 4
}
