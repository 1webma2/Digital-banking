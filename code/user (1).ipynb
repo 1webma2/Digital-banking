{
 "cells": [
  {
   "cell_type": "code",
   "execution_count": 1,
   "metadata": {},
   "outputs": [],
   "source": [
    "'''\n",
    "\n",
    "import_ipynb is the module which allows to import ipynb files as your own modules\n",
    "\n",
    "'''\n",
    "import import_ipynb"
   ]
  },
  {
   "cell_type": "code",
   "execution_count": 2,
   "metadata": {},
   "outputs": [
    {
     "name": "stdout",
     "output_type": "stream",
     "text": [
      "importing Jupyter notebook from banker_module.ipynb\n",
      "importing Jupyter notebook from stock_exchange.ipynb\n"
     ]
    }
   ],
   "source": [
    "# import banker module\n",
    "from banker_module import banker"
   ]
  },
  {
   "cell_type": "code",
   "execution_count": 3,
   "metadata": {},
   "outputs": [],
   "source": [
    "# import stock exchange module\n",
    "from stock_exchange import stock_exchange"
   ]
  },
  {
   "cell_type": "code",
   "execution_count": 4,
   "metadata": {},
   "outputs": [],
   "source": [
    "# Creating features for users of the digital bank\n",
    "class user:\n",
    "    \n",
    "    ''' \n",
    "    \n",
    "    ----------------------\n",
    "    Description:\n",
    "    This class allows user to do receive daily banking services\n",
    "    ----------------------\n",
    "    \n",
    "    \n",
    "    -----------------------\n",
    "    Methods:\n",
    "    \n",
    "    current_balance - Checking current balance\n",
    "    interest_rate - Setting user's interest rate\n",
    "    future_balance - calculating future balance\n",
    "    cash_in - allows to insert money\n",
    "    cash_out - allows to withdraw money \n",
    "    invest_in_stock - allows to add money to the investment account from current account\n",
    "    retrieve_from_stock - allows to withdraw money from stock exchange   \n",
    "    stock - allows to check how many stocks does the client have\n",
    "    ------------------------\n",
    "    \n",
    "    \n",
    "    \n",
    "    '''\n",
    "   \n",
    "    # Initialization of user. Creating user: First name, Last name, current balance, investment balance, number of stocks\n",
    "    def __init__(self, first, last, current_balance, investment_balance, stocks, transaction_fee):\n",
    "        self.first = first\n",
    "        self.last = last\n",
    "        self.current_balance = current_balance\n",
    "        self.investment_balance = investment_balance\n",
    "        self.stocks = stocks\n",
    "        self.transaction_fee = transaction_fee\n",
    "        \n",
    "    \n",
    "    # Setting user's interest rate\n",
    "    def interest_rate(self, interest_rate):\n",
    "        self.interest_rate = interest_rate\n",
    "    \n",
    "    \n",
    "    # Checking future balance    \n",
    "    def future_balance(self):\n",
    "        self.future_balance = self.current_balance * (1 + self.interest_rate / 100)\n",
    "        return '{} {} future balance is {}\"'.format(self.first, self.last, self.future_balance)  \n",
    "    \n",
    "    # cash_in\n",
    "    def cash_in(self, cash_in):\n",
    "        self.cash_in = cash_in\n",
    "        self.current_balance = self.current_balance + self.cash_in - self.transaction_fee * self.cash_in\n",
    "    \n",
    "    #withdraw money    \n",
    "    def cash_out(self, cash_out):\n",
    "        self.cash_out = cash_out\n",
    "        self.current_balance = self.current_balance - self.cash_out - self.cash_out * self.transaction_fee\n",
    "    \n",
    "    # add money to the investment account from current account\n",
    "    def invest_in_stock(self, invest):\n",
    "        self.invest = invest\n",
    "        if self.invest < self.current_balance and self.invest >=1:\n",
    "            self.investment_balance = self.investment_balance + self.invest\n",
    "            self.current_balance = self.current_balance - self.invest\n",
    "        else:\n",
    "            print('Invalid amount of money')\n",
    "    \n",
    "    # withdraw money from stock exchange account        \n",
    "    def retrieve_from_stock(self, retrieve):\n",
    "        self.retrieve = retrieve\n",
    "        if self.retrieve < self.investment_balance:\n",
    "            self.current_balance = self.current_balance + self.retrieve\n",
    "            self.investment_balance = self.investment_balance - self.retrieve\n",
    "        else:\n",
    "            print('Invalid amount of money')\n",
    "    \n",
    "    \n",
    "    # Checking current number of stocks       \n",
    "    def stock(self):\n",
    "        return '{} {} holds {} stocks'.format(self.first, self.last, self.stocks)\n",
    "    \n",
    "    # Checking current balance\n",
    "    def current_balance(self):\n",
    "        return '{} {} current balance is {}'.format(self.first, self.last, self.current_balance)\n",
    "        "
   ]
  },
  {
   "cell_type": "code",
   "execution_count": 5,
   "metadata": {},
   "outputs": [],
   "source": [
    "user_1 = user('Andrei', 'Ten', 40000, 1000, 10, 0.01)"
   ]
  },
  {
   "cell_type": "code",
   "execution_count": 6,
   "metadata": {},
   "outputs": [],
   "source": [
    "banker.add_interest(user_1, 11)"
   ]
  },
  {
   "cell_type": "code",
   "execution_count": 7,
   "metadata": {},
   "outputs": [
    {
     "data": {
      "text/plain": [
       "11"
      ]
     },
     "execution_count": 7,
     "metadata": {},
     "output_type": "execute_result"
    }
   ],
   "source": [
    "user_1.interest_rate"
   ]
  },
  {
   "cell_type": "code",
   "execution_count": 8,
   "metadata": {},
   "outputs": [
    {
     "name": "stdout",
     "output_type": "stream",
     "text": [
      "{'JnJ': 150, 'BMW': 50, 'Sber': 4, 'Tinkoff': 20, 'TCS': 78, 'Tesla': 450, 'Yandex': 99, 'Google': 1124}\n"
     ]
    }
   ],
   "source": [
    "stock_exchange.show_all()"
   ]
  },
  {
   "cell_type": "code",
   "execution_count": 9,
   "metadata": {},
   "outputs": [],
   "source": [
    "banker.add_stock_or_set_price('Amazon', 3200)"
   ]
  },
  {
   "cell_type": "code",
   "execution_count": 10,
   "metadata": {},
   "outputs": [
    {
     "name": "stdout",
     "output_type": "stream",
     "text": [
      "{'JnJ': 150, 'BMW': 50, 'Sber': 4, 'Tinkoff': 20, 'TCS': 78, 'Tesla': 450, 'Yandex': 99, 'Google': 1124, 'Amazon': 3200}\n"
     ]
    }
   ],
   "source": [
    "stock_exchange.show_all()"
   ]
  },
  {
   "cell_type": "code",
   "execution_count": 11,
   "metadata": {},
   "outputs": [],
   "source": [
    "user_1.invest_in_stock(2000)"
   ]
  },
  {
   "cell_type": "code",
   "execution_count": 12,
   "metadata": {},
   "outputs": [
    {
     "data": {
      "text/plain": [
       "'Andrei Ten future balance is 42180.00000000001\"'"
      ]
     },
     "execution_count": 12,
     "metadata": {},
     "output_type": "execute_result"
    }
   ],
   "source": [
    "user_1.future_balance()"
   ]
  },
  {
   "cell_type": "code",
   "execution_count": 13,
   "metadata": {},
   "outputs": [
    {
     "data": {
      "text/plain": [
       "'Andrei Ten holds 10 stocks'"
      ]
     },
     "execution_count": 13,
     "metadata": {},
     "output_type": "execute_result"
    }
   ],
   "source": [
    "user_1.stock()"
   ]
  },
  {
   "cell_type": "code",
   "execution_count": 14,
   "metadata": {},
   "outputs": [],
   "source": [
    "banker.set_fee(user_1, 0.03)"
   ]
  },
  {
   "cell_type": "code",
   "execution_count": 15,
   "metadata": {},
   "outputs": [],
   "source": [
    "user_1.cash_in(1000)"
   ]
  },
  {
   "cell_type": "code",
   "execution_count": 16,
   "metadata": {},
   "outputs": [
    {
     "data": {
      "text/plain": [
       "38970.0"
      ]
     },
     "execution_count": 16,
     "metadata": {},
     "output_type": "execute_result"
    }
   ],
   "source": [
    "user_1.current_balance"
   ]
  },
  {
   "cell_type": "code",
   "execution_count": 17,
   "metadata": {},
   "outputs": [],
   "source": [
    "user_1.cash_out(2200)"
   ]
  },
  {
   "cell_type": "code",
   "execution_count": 18,
   "metadata": {},
   "outputs": [
    {
     "data": {
      "text/plain": [
       "36704.0"
      ]
     },
     "execution_count": 18,
     "metadata": {},
     "output_type": "execute_result"
    }
   ],
   "source": [
    "user_1.current_balance"
   ]
  },
  {
   "cell_type": "code",
   "execution_count": 19,
   "metadata": {},
   "outputs": [
    {
     "data": {
      "text/plain": [
       "'Andrei Ten current balance is 36704.0'"
      ]
     },
     "execution_count": 19,
     "metadata": {},
     "output_type": "execute_result"
    }
   ],
   "source": [
    "user.current_balance(user_1)"
   ]
  },
  {
   "cell_type": "code",
   "execution_count": null,
   "metadata": {},
   "outputs": [],
   "source": []
  }
 ],
 "metadata": {
  "kernelspec": {
   "display_name": "Python 3",
   "language": "python",
   "name": "python3"
  },
  "language_info": {
   "codemirror_mode": {
    "name": "ipython",
    "version": 3
   },
   "file_extension": ".py",
   "mimetype": "text/x-python",
   "name": "python",
   "nbconvert_exporter": "python",
   "pygments_lexer": "ipython3",
   "version": "3.7.3"
  }
 },
 "nbformat": 4,
 "nbformat_minor": 4
}
