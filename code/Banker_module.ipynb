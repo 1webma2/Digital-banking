{
 "cells": [
  {
   "cell_type": "code",
   "execution_count": 1,
   "metadata": {},
   "outputs": [],
   "source": [
    "'''\n",
    "\n",
    "import_ipynb is the module which allows to import ipynb files as your own modules\n",
    "\n",
    "'''\n",
    "import import_ipynb"
   ]
  },
  {
   "cell_type": "code",
   "execution_count": 2,
   "metadata": {},
   "outputs": [
    {
     "name": "stdout",
     "output_type": "stream",
     "text": [
      "importing Jupyter notebook from stock_exchange.ipynb\n"
     ]
    }
   ],
   "source": [
    "# import stock exchange module\n",
    "from stock_exchange import stock_exchange"
   ]
  },
  {
   "cell_type": "code",
   "execution_count": 3,
   "metadata": {},
   "outputs": [],
   "source": [
    "\n",
    "class banker():\n",
    "    ''' \n",
    "    \n",
    "    ----------------------\n",
    "    Description:\n",
    "    This class allows banker to engage with the client and add new stocks to stock exchange and set prices for them for each user\n",
    "    ----------------------\n",
    "    \n",
    "    \n",
    "    -----------------------\n",
    "    Methods:\n",
    "    \n",
    "    add_interest - allows banker to set interest rate for user\n",
    "    add_stock_or_set_price - allows user to \n",
    "    set_fee - allows banker to set transaction fee for user\n",
    "    \n",
    "    ------------------------\n",
    "        \n",
    "    '''\n",
    "        \n",
    "    \n",
    "    def add_interest(self, interest):\n",
    "        self.interest = interest\n",
    "        self.interest_rate = self.interest\n",
    "        \n",
    "    def add_stock_or_set_price( new_stock , price):\n",
    "        stock_exchange.stocks_items[new_stock] = price\n",
    "    \n",
    "    def set_fee(self, new_transaction_fee):\n",
    "        self.new_transaction_fee = new_transaction_fee\n",
    "        self.transaction_fee =  self.new_transaction_fee"
   ]
  }
 ],
 "metadata": {
  "kernelspec": {
   "display_name": "Python 3",
   "language": "python",
   "name": "python3"
  },
  "language_info": {
   "codemirror_mode": {
    "name": "ipython",
    "version": 3
   },
   "file_extension": ".py",
   "mimetype": "text/x-python",
   "name": "python",
   "nbconvert_exporter": "python",
   "pygments_lexer": "ipython3",
   "version": "3.7.3"
  }
 },
 "nbformat": 4,
 "nbformat_minor": 4
}
